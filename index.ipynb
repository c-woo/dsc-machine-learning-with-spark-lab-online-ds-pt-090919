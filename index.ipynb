{
 "cells": [
  {
   "cell_type": "markdown",
   "metadata": {},
   "source": [
    "## Machine Learning with Spark - Lab\n",
    "\n",
    "## Introduction\n",
    "\n",
    "In the previous lesson, you saw how to manipulate data with Spark DataFrames as well as create machine learning models. In this lab, you're going to practice loading data, manipulating it, and fitting it in the Spark framework. Afterward, you're going to make use of different visualizations to see if you can get any insights from the model. This dataset is from a Taiwanese financial company, and the task is to determine which individuals are going to default on their credit card based off of characteristics such as limit balance, past payment history, age, marriage status, and sex. Let's get started!\n",
    "\n",
    "### Objectives\n",
    "\n",
    "In this lab you will: \n",
    "\n",
    "- Load and manipulate data using Spark DataFrames \n",
    "- Create a Spark ML pipeline that transforms data and runs over a grid of hyperparameters "
   ]
  },
  {
   "cell_type": "markdown",
   "metadata": {},
   "source": [
    "To begin with create a SparkSession and import the `'credit_card_default.csv'` file  into a PySpark DataFrame. "
   ]
  },
  {
   "cell_type": "code",
   "execution_count": 1,
   "metadata": {},
   "outputs": [],
   "source": [
    "# import necessary libraries\n",
    "from pyspark import SparkContext\n",
    "from pyspark.sql import SparkSession\n",
    "# initialize Spark Session\n",
    "sc = SparkContext('local[*]')\n",
    "spark = SparkSession(sc)\n",
    "\n",
    "# read in csv to a spark dataframe\n",
    "spark_df = spark.read.csv('./credit_card_default.csv', header='true', inferSchema='true')"
   ]
  },
  {
   "cell_type": "markdown",
   "metadata": {},
   "source": [
    "Check the datatypes to ensure that all columns are the datatype you expect."
   ]
  },
  {
   "cell_type": "code",
   "execution_count": 2,
   "metadata": {},
   "outputs": [
    {
     "data": {
      "text/plain": [
       "[('ID', 'int'),\n",
       " ('LIMIT_BAL', 'double'),\n",
       " ('SEX', 'string'),\n",
       " ('EDUCATION', 'string'),\n",
       " ('MARRIAGE', 'string'),\n",
       " ('AGE', 'int'),\n",
       " ('PAY_0', 'int'),\n",
       " ('PAY_2', 'int'),\n",
       " ('PAY_3', 'int'),\n",
       " ('PAY_4', 'int'),\n",
       " ('PAY_5', 'int'),\n",
       " ('PAY_6', 'int'),\n",
       " ('BILL_AMT1', 'double'),\n",
       " ('BILL_AMT2', 'double'),\n",
       " ('BILL_AMT3', 'double'),\n",
       " ('BILL_AMT4', 'double'),\n",
       " ('BILL_AMT5', 'double'),\n",
       " ('BILL_AMT6', 'double'),\n",
       " ('PAY_AMT1', 'double'),\n",
       " ('PAY_AMT2', 'double'),\n",
       " ('PAY_AMT3', 'double'),\n",
       " ('PAY_AMT4', 'double'),\n",
       " ('PAY_AMT5', 'double'),\n",
       " ('PAY_AMT6', 'double'),\n",
       " ('default', 'int')]"
      ]
     },
     "execution_count": 2,
     "metadata": {},
     "output_type": "execute_result"
    }
   ],
   "source": [
    "spark_df.dtypes"
   ]
  },
  {
   "cell_type": "markdown",
   "metadata": {},
   "source": [
    "Check to see how many missing values are in the dataset. This will require using the `.filter()` , `.isNull()`, and `.count()` methods."
   ]
  },
  {
   "cell_type": "code",
   "execution_count": 3,
   "metadata": {},
   "outputs": [
    {
     "name": "stdout",
     "output_type": "stream",
     "text": [
      "ID 0\n",
      "LIMIT_BAL 0\n",
      "SEX 0\n",
      "EDUCATION 0\n",
      "MARRIAGE 0\n",
      "AGE 0\n",
      "PAY_0 0\n",
      "PAY_2 0\n",
      "PAY_3 0\n",
      "PAY_4 0\n",
      "PAY_5 0\n",
      "PAY_6 0\n",
      "BILL_AMT1 0\n",
      "BILL_AMT2 0\n",
      "BILL_AMT3 0\n",
      "BILL_AMT4 0\n",
      "BILL_AMT5 0\n",
      "BILL_AMT6 0\n",
      "PAY_AMT1 0\n",
      "PAY_AMT2 0\n",
      "PAY_AMT3 0\n",
      "PAY_AMT4 0\n",
      "PAY_AMT5 0\n",
      "PAY_AMT6 0\n",
      "default 0\n"
     ]
    }
   ],
   "source": [
    "for col in spark_df.columns:\n",
    "    print(col, spark_df.filter(spark_df[col].isNull()).count())"
   ]
  },
  {
   "cell_type": "markdown",
   "metadata": {},
   "source": [
    "Now, determine how many categories there are in each of the categorical columns."
   ]
  },
  {
   "cell_type": "code",
   "execution_count": 4,
   "metadata": {},
   "outputs": [
    {
     "name": "stdout",
     "output_type": "stream",
     "text": [
      "SEX [Row(SEX='Female'), Row(SEX='Male')]\n",
      "EDUCATION [Row(EDUCATION='High School'), Row(EDUCATION='0'), Row(EDUCATION='5'), Row(EDUCATION='6'), Row(EDUCATION='Other'), Row(EDUCATION='Graduate'), Row(EDUCATION='College')]\n",
      "MARRIAGE [Row(MARRIAGE='0'), Row(MARRIAGE='Other'), Row(MARRIAGE='Married'), Row(MARRIAGE='Single')]\n"
     ]
    }
   ],
   "source": [
    "for column, data_type in spark_df.dtypes:\n",
    "   # your code here\n",
    "    if data_type == 'string':\n",
    "        print(column, spark_df.select(column).distinct().collect())"
   ]
  },
  {
   "cell_type": "markdown",
   "metadata": {},
   "source": [
    "Interesting... it looks like we have some extraneous values in each of our categories. Let's look at some visualizations of each of these to determine just how many of them there are. Create bar plots of the variables `'EDUCATION'` and `'MARRIAGE'` to see how many of the undefined values there are. After doing so, come up with a strategy for accounting for the extra values."
   ]
  },
  {
   "cell_type": "code",
   "execution_count": 5,
   "metadata": {},
   "outputs": [
    {
     "data": {
      "image/png": "[encoded data removed]",
      "text/plain": [
       "<Figure size 432x288 with 1 Axes>"
      ]
     },
     "metadata": {
      "needs_background": "light"
     },
     "output_type": "display_data"
    }
   ],
   "source": [
    "import seaborn as sns\n",
    "import matplotlib.pyplot as plt\n",
    "\n",
    "\n",
    "\n",
    "## plotting the categories for education\n",
    "education_counts = spark_df.groupBy('EDUCATION').count().collect()\n",
    "\n",
    "sns.barplot(x=[x[0] for x in education_counts], y=[x[1] for x in education_counts])\n",
    "plt.show()"
   ]
  },
  {
   "cell_type": "code",
   "execution_count": 6,
   "metadata": {},
   "outputs": [
    {
     "data": {
      "image/png": "[encoded data removed]",
      "text/plain": [
       "<Figure size 432x288 with 1 Axes>"
      ]
     },
     "metadata": {
      "needs_background": "light"
     },
     "output_type": "display_data"
    }
   ],
   "source": [
    "## plotting the categories for marriage\n",
    "marriage_counts = spark_df.groupBy('MARRIAGE').count().collect()\n",
    "\n",
    "sns.barplot(x=[x[0] for x in marriage_counts], y=[x[1] for x in marriage_counts])\n",
    "plt.show()"
   ]
  },
  {
   "cell_type": "markdown",
   "metadata": {},
   "source": [
    "It looks like there are barely any of the 0 and 5 categories. We can go ahead and throw them into the \"Other\" category since it's already operating as a catchall here. Similarly, the category \"0\" looks small, so let's throw it in with the \"Other\" values. You can do this by using a method called `.when()` from PySpark in conjunction with `.withColumn()` and `.otherwise()`.  "
   ]
  },
  {
   "cell_type": "code",
   "execution_count": 8,
   "metadata": {},
   "outputs": [],
   "source": [
    "from pyspark.sql.functions import when\n",
    "\n",
    "## changing the values in the education column\n",
    "spark_df_ed = spark_df.withColumn('EDUCATION', when(spark_df['EDUCATION'] == '0', 'Other')\\\n",
    "                                               .when(spark_df['EDUCATION'] == '5', 'Other')\\\n",
    "                                               .when(spark_df['EDUCATION'] == '6', 'Other')\\\n",
    "                                               .otherwise(spark_df['EDUCATION']))\n",
    "## changing the values in the marriage column\n",
    "\n",
    "spark_df_done = spark_df_ed.withColumn('MARRIAGE', when(spark_df_ed['MARRIAGE'] == '0', 'Other')\\\n",
    "                                                   .otherwise(spark_df['MARRIAGE']))"
   ]
  },
  {
   "cell_type": "code",
   "execution_count": 9,
   "metadata": {},
   "outputs": [
    {
     "data": {
      "text/plain": [
       "Row(ID=2, LIMIT_BAL=120000.0, SEX='Female', EDUCATION='College', MARRIAGE='Single', AGE=26, PAY_0=-1, PAY_2=2, PAY_3=0, PAY_4=0, PAY_5=0, PAY_6=2, BILL_AMT1=2682.0, BILL_AMT2=1725.0, BILL_AMT3=2682.0, BILL_AMT4=3272.0, BILL_AMT5=3455.0, BILL_AMT6=3261.0, PAY_AMT1=0.0, PAY_AMT2=1000.0, PAY_AMT3=1000.0, PAY_AMT4=1000.0, PAY_AMT5=0.0, PAY_AMT6=2000.0, default=1)"
      ]
     },
     "execution_count": 9,
     "metadata": {},
     "output_type": "execute_result"
    }
   ],
   "source": [
    "spark_df_done.head()"
   ]
  },
  {
   "cell_type": "markdown",
   "metadata": {},
   "source": [
    "Now let's take a look at all the values contained in the categorical columns of the DataFrame: "
   ]
  },
  {
   "cell_type": "code",
   "execution_count": 12,
   "metadata": {},
   "outputs": [
    {
     "name": "stdout",
     "output_type": "stream",
     "text": [
      "SEX [Row(SEX='Female'), Row(SEX='Male')]\n",
      "EDUCATION [Row(EDUCATION='High School'), Row(EDUCATION='Other'), Row(EDUCATION='Graduate'), Row(EDUCATION='College')]\n",
      "MARRIAGE [Row(MARRIAGE='Other'), Row(MARRIAGE='Married'), Row(MARRIAGE='Single')]\n"
     ]
    }
   ],
   "source": [
    "for column, data_type in spark_df_done.dtypes:\n",
    "    # your code here\n",
    "    if data_type == 'string':\n",
    "        print(column, spark_df_done.select(column).distinct().collect())"
   ]
  },
  {
   "cell_type": "markdown",
   "metadata": {},
   "source": [
    "Much better. Now, let's do a little more investigation into our target variable before diving into the machine learning aspect of this project."
   ]
  },
  {
   "cell_type": "markdown",
   "metadata": {},
   "source": [
    "##  EDA\n",
    "\n",
    "Let's first look at the overall distribution of class balance of the default and not default labels. Create a barplot to compare the number of defaults vs. non-defaults. This will require using `.groupBy()` as well as an aggregation method."
   ]
  },
  {
   "cell_type": "code",
   "execution_count": 16,
   "metadata": {},
   "outputs": [],
   "source": [
    "default_count = spark_df_done.groupBy('default').count().collect()"
   ]
  },
  {
   "cell_type": "code",
   "execution_count": 21,
   "metadata": {},
   "outputs": [
    {
     "data": {
      "text/plain": [
       "<matplotlib.axes._subplots.AxesSubplot at 0x7fe3738bd610>"
      ]
     },
     "execution_count": 21,
     "metadata": {},
     "output_type": "execute_result"
    },
    {
     "data": {
      "image/png": "[encoded data removed]",
      "text/plain": [
       "<Figure size 432x288 with 1 Axes>"
      ]
     },
     "metadata": {
      "needs_background": "light"
     },
     "output_type": "display_data"
    }
   ],
   "source": [
    "sns.barplot(x=[x[0] for x in default_count], y=[x[1] for x in default_count])"
   ]
  },
  {
   "cell_type": "markdown",
   "metadata": {},
   "source": [
    "Let's also visualize the difference in default rate between males and females in this dataset."
   ]
  },
  {
   "cell_type": "code",
   "execution_count": 23,
   "metadata": {},
   "outputs": [
    {
     "data": {
      "text/plain": [
       "[Row(default=1, SEX='Female', count=3762),\n",
       " Row(default=0, SEX='Male', count=9015),\n",
       " Row(default=1, SEX='Male', count=2873),\n",
       " Row(default=0, SEX='Female', count=14349)]"
      ]
     },
     "execution_count": 23,
     "metadata": {},
     "output_type": "execute_result"
    }
   ],
   "source": [
    "# perform a groupby for default and sex\n",
    "default_sex = spark_df_done.groupBy(['default', 'SEX']).count().collect()\n",
    "default_sex"
   ]
  },
  {
   "cell_type": "code",
   "execution_count": 24,
   "metadata": {},
   "outputs": [],
   "source": [
    "female = [default_sex[0], default_sex[3]]\n",
    "male = [default_sex[1], default_sex[2]]"
   ]
  },
  {
   "cell_type": "code",
   "execution_count": 26,
   "metadata": {},
   "outputs": [
    {
     "data": {
      "text/plain": [
       "Text(0.5, 1.0, 'Male Default Rate')"
      ]
     },
     "execution_count": 26,
     "metadata": {},
     "output_type": "execute_result"
    },
    {
     "data": {
      "image/png": "[encoded data removed]",
      "text/plain": [
       "<Figure size 720x360 with 2 Axes>"
      ]
     },
     "metadata": {
      "needs_background": "light"
     },
     "output_type": "display_data"
    }
   ],
   "source": [
    "# make barplot for female and male default v no default rate\n",
    "plt.figure(figsize=(10, 5))\n",
    "plt.subplot(1, 2, 1)\n",
    "sns.barplot(x=[x[0] for x in female], y=[x[2] for x in female])\n",
    "plt.title('Female Default Rate')\n",
    "\n",
    "plt.subplot(1, 2, 2)\n",
    "sns.barplot(x=[x[0] for x in male], y=[x[2] for x in male])\n",
    "plt.title('Male Default Rate')"
   ]
  },
  {
   "cell_type": "markdown",
   "metadata": {},
   "source": [
    "It looks like males have an ever so slightly higher default rate than females."
   ]
  },
  {
   "cell_type": "markdown",
   "metadata": {},
   "source": [
    "## Onto the Machine Learning!"
   ]
  },
  {
   "cell_type": "markdown",
   "metadata": {},
   "source": [
    "Now, it's time to fit the data to the PySpark machine learning model pipeline. You will need:\n",
    "\n",
    "* 3 StringIndexers (for each categorical feature)\n",
    "* A OneHotEncoderEstimator (to encode the newly indexed strings into categorical variables)\n",
    "* A VectorAssembler (to combine all features into one SparseVector)\n",
    "\n",
    "All of these initialized estimators should be stored in a list."
   ]
  },
  {
   "cell_type": "code",
   "execution_count": 36,
   "metadata": {},
   "outputs": [
    {
     "name": "stdout",
     "output_type": "stream",
     "text": [
      "[StringIndexer_b20cd871cddd, StringIndexer_7f00a7346bfd, StringIndexer_222fb7243125, OneHotEncoderEstimator_219832d14116, VectorAssembler_871fdc39b82d]\n"
     ]
    }
   ],
   "source": [
    "# importing the necessary modules\n",
    "from pyspark.ml.feature import StringIndexer, OneHotEncoderEstimator, VectorAssembler, StringIndexerModel\n",
    "stages = []\n",
    "indexers = []\n",
    "\n",
    "# creating the string indexers\n",
    "indexers.append(StringIndexer(inputCol='SEX', outputCol='sex_'))\n",
    "indexers.append(StringIndexer(inputCol='EDUCATION', outputCol='education_'))\n",
    "indexers.append(StringIndexer(inputCol='MARRIAGE', outputCol='marriage_'))\n",
    "\n",
    "index_columns = [x.getOutputCol() for x in indexers]\n",
    "\n",
    "ohe = OneHotEncoderEstimator(inputCols=index_columns, outputCols=[col + 'ohe' for col in index_columns], dropLast=True)\n",
    "\n",
    "# features to be included in the model \n",
    "features = ['LIMIT_BAL','AGE','PAY_0','PAY_2','PAY_3',\n",
    "            'PAY_4','PAY_5','PAY_6', 'BILL_AMT1','BILL_AMT2',\n",
    "            'BILL_AMT3','BILL_AMT4','BILL_AMT5','BILL_AMT6']\n",
    "\n",
    "# adding the categorical features\n",
    "features.extend(ohe.getOutputCols())\n",
    "\n",
    "# putting all of the features into a single vector\n",
    "vector_assembler = VectorAssembler(inputCols=features, outputCol='features')\n",
    "\n",
    "stages.extend(indexers)\n",
    "stages.extend([ohe, vector_assembler])\n",
    "print(stages)\n"
   ]
  },
  {
   "cell_type": "markdown",
   "metadata": {},
   "source": [
    "Alright! Now let's see if that worked. Let's investigate how it transforms your dataset. Put all of the stages in a Pipeline and fit it to your data. Look at the features column. Did you obtain the number of features you expected?"
   ]
  },
  {
   "cell_type": "code",
   "execution_count": 38,
   "metadata": {},
   "outputs": [
    {
     "data": {
      "text/plain": [
       "Row(features=DenseVector([120000.0, 26.0, -1.0, 2.0, 0.0, 0.0, 0.0, 2.0, 2682.0, 1725.0, 2682.0, 3272.0, 3455.0, 3261.0, 1.0, 1.0, 0.0, 0.0, 1.0, 0.0]))"
      ]
     },
     "execution_count": 38,
     "metadata": {},
     "output_type": "execute_result"
    }
   ],
   "source": [
    "from pyspark.ml.pipeline import Pipeline\n",
    "pipeline = Pipeline(stages=stages)\n",
    "pipe_data = pipeline.fit(spark_df_done)\n",
    "transformed_data = pipe_data.transform(spark_df_done)\n",
    "\n",
    "p = transformed_data.select('features')\n",
    "p.head()\n",
    "# 17 numerical features and 6 categorical ones (the argument dropLast = True makes us have Sex, 3 Edu variables and 2 marriage)"
   ]
  },
  {
   "cell_type": "markdown",
   "metadata": {},
   "source": [
    "## Fitting Machine Learning Models\n",
    "That looks good! Now let's go ahead and fit data to different machine learning models. To evaluate these models, you should use the `BinaryClassificationEvaluator`. Below is an import of all the classes and libraries you'll need in the remainder of this lab."
   ]
  },
  {
   "cell_type": "code",
   "execution_count": 39,
   "metadata": {},
   "outputs": [],
   "source": [
    "from pyspark.ml.classification import GBTClassifier, DecisionTreeClassifier, LogisticRegression, RandomForestClassifier\n",
    "from pyspark.ml.tuning import ParamGridBuilder, CrossValidator, TrainValidationSplit\n",
    "from pyspark.ml.evaluation import BinaryClassificationEvaluator\n",
    "import numpy as np"
   ]
  },
  {
   "cell_type": "markdown",
   "metadata": {},
   "source": [
    "### Logistic Regression\n",
    "\n",
    "First, we'll try with a simple Logistic Regression Model:\n",
    "\n",
    "* instantiate a logistic regression model\n",
    "* add it to the stages list\n",
    "* instantiate a new Pipeline estimator (not fit) with all of the stages\n",
    "* instantiate an `BinaryClassificationEvaluator`\n",
    "* create parameters to gridsearch through using `ParamGridBuilder`\n",
    "* Instantiate and fit a `CrossValidator` "
   ]
  },
  {
   "cell_type": "code",
   "execution_count": 40,
   "metadata": {},
   "outputs": [],
   "source": [
    "# your code here\n",
    "lr = LogisticRegression(featuresCol='features', labelCol='default')\n",
    "p = Pipeline(stages=stages + [lr])\n",
    "evaluation = BinaryClassificationEvaluator(labelCol='default', metricName='areaUnderROC')\n",
    "\n",
    "lr_params = ParamGridBuilder().addGrid(lr.regParam,[0.0,0.2,0.5,1.0])\\\n",
    ".addGrid(lr.standardization,[True,False])\\\n",
    ".build()\n",
    "\n",
    "cv = CrossValidator(estimator=p, estimatorParamMaps=lr_params,evaluator=evaluation,parallelism=4)\n",
    "model = cv.fit(spark_df_done)"
   ]
  },
  {
   "cell_type": "markdown",
   "metadata": {},
   "source": [
    "Determine how well your model performed by looking at the evaluator metrics. If you tried multiple parameters, which performed best?"
   ]
  },
  {
   "cell_type": "code",
   "execution_count": 45,
   "metadata": {},
   "outputs": [
    {
     "name": "stdout",
     "output_type": "stream",
     "text": [
      "0.7176843537769972 AUC\n",
      "best paramters:  {Param(parent='LogisticRegression_01f98ba3c9a7', name='regParam', doc='regularization parameter (>= 0).'): 0.0, Param(parent='LogisticRegression_01f98ba3c9a7', name='standardization', doc='whether to standardize the training features before fitting the model.'): True}\n"
     ]
    }
   ],
   "source": [
    "# print out the AUC of your best model as well as the parameters of your best model\n",
    "print(model.avgMetrics[np.argmax(model.avgMetrics)], 'AUC')\n",
    "print('best paramters: ', lr_params[np.argmax(model.avgMetrics)])"
   ]
  },
  {
   "cell_type": "markdown",
   "metadata": {},
   "source": [
    "#### Now try this again with other classifiers. Try and create a function that will allow you to easily test different models with different parameters. This function is optional, but it should allow for your code to be far more D.R.Y. The function should return the fitted cross-validated model as well as print out the performance metrics of the best performing model and the best parameters."
   ]
  },
  {
   "cell_type": "code",
   "execution_count": 1,
   "metadata": {},
   "outputs": [],
   "source": [
    "# create function to cross validate models with different parameters\n",
    "\n"
   ]
  },
  {
   "cell_type": "markdown",
   "metadata": {},
   "source": [
    "Train a Random Forest classifier and determine the best performing model with the best parameters. This might take a while! Be smart about how you use parallelization here."
   ]
  },
  {
   "cell_type": "code",
   "execution_count": 46,
   "metadata": {},
   "outputs": [],
   "source": [
    "# code to train Random Forest Classifier\n",
    "# ⏰ This cell may take a long time to run\n",
    "rf = RandomForestClassifier(featuresCol='features',labelCol='default')\n",
    "p = Pipeline(stages=stages + [rf])\n",
    "evaluation = BinaryClassificationEvaluator(labelCol='default', metricName='areaUnderROC')\n",
    "\n",
    "rf_params = ParamGridBuilder()\\\n",
    ".addGrid(rf.maxDepth, [5,10])\\\n",
    " .addGrid(rf.numTrees, [20,50,100,200])\\\n",
    " .build()\n",
    "\n",
    "cv = CrossValidator(estimator=p, estimatorParamMaps=rf_params,evaluator=evaluation,parallelism=4)\n",
    "model = cv.fit(spark_df_done)"
   ]
  },
  {
   "cell_type": "code",
   "execution_count": 47,
   "metadata": {},
   "outputs": [
    {
     "name": "stdout",
     "output_type": "stream",
     "text": [
      "0.7804093221915429 AUC\n",
      "best paramters:  {Param(parent='LogisticRegression_01f98ba3c9a7', name='regParam', doc='regularization parameter (>= 0).'): 1.0, Param(parent='LogisticRegression_01f98ba3c9a7', name='standardization', doc='whether to standardize the training features before fitting the model.'): False}\n"
     ]
    }
   ],
   "source": [
    "print(model.avgMetrics[np.argmax(model.avgMetrics)], 'AUC')\n",
    "print('best paramters: ', lr_params[np.argmax(model.avgMetrics)])"
   ]
  },
  {
   "cell_type": "markdown",
   "metadata": {},
   "source": [
    "Now train a Gradient Boosting Classifier. **This might take a very long time depending on the number of parameters you are training**"
   ]
  },
  {
   "cell_type": "code",
   "execution_count": 48,
   "metadata": {},
   "outputs": [],
   "source": [
    "# code to train Gradient Boosting Classifier\n",
    "# ⏰ This cell may take a long time to run\n",
    "gb = GBTClassifier(featuresCol='features',labelCol='default')\n",
    "p = Pipeline(stages=stages + [gb])\n",
    "evaluation = BinaryClassificationEvaluator(labelCol='default', metricName='areaUnderROC')\n",
    "\n",
    "gb_params = ParamGridBuilder().addGrid(gb.maxDepth,[1,5]).addGrid(gb.maxIter,[20,50,100]).build()\n",
    "\n",
    "cv = CrossValidator(estimator=p, estimatorParamMaps=gb_params,evaluator=evaluation,parallelism=4)\n",
    "model = cv.fit(spark_df_done)"
   ]
  },
  {
   "cell_type": "code",
   "execution_count": 49,
   "metadata": {},
   "outputs": [
    {
     "name": "stdout",
     "output_type": "stream",
     "text": [
      "0.7787477398138312 AUC\n",
      "best paramters:  {Param(parent='LogisticRegression_01f98ba3c9a7', name='regParam', doc='regularization parameter (>= 0).'): 0.2, Param(parent='LogisticRegression_01f98ba3c9a7', name='standardization', doc='whether to standardize the training features before fitting the model.'): False}\n"
     ]
    }
   ],
   "source": [
    "print(model.avgMetrics[np.argmax(model.avgMetrics)], 'AUC')\n",
    "print('best paramters: ', lr_params[np.argmax(model.avgMetrics)])"
   ]
  },
  {
   "cell_type": "markdown",
   "metadata": {},
   "source": [
    "It looks like the optimal performing model is the Random Forest Classifier Model because it has the highest AUC!\n",
    "\n",
    "## Level Up (Optional)\n",
    "\n",
    "* Create ROC curves for each of these models\n",
    "* Try the multi-layer perceptron classifier algorithm. You will soon learn about what this means in the neural network section!"
   ]
  },
  {
   "cell_type": "markdown",
   "metadata": {},
   "source": [
    "## Summary\n",
    "\n",
    "If you've made it thus far, congratulations! Spark is an in-demand skill, but it is not particularly easy to master. In this lesson, you fit multiple different machine learning pipelines for a classification problem. If you want to take your Spark skills to the next level, connect to a distributed cluster using a service like AWS or Databricks and perform these Spark operations on the cloud."
   ]
  }
 ],
 "metadata": {
  "kernelspec": {
   "display_name": "Python 3",
   "language": "python",
   "name": "python3"
  },
  "language_info": {
   "codemirror_mode": {
    "name": "ipython",
    "version": 3
   },
   "file_extension": ".py",
   "mimetype": "text/x-python",
   "name": "python",
   "nbconvert_exporter": "python",
   "pygments_lexer": "ipython3",
   "version": "3.7.6"
  }
 },
 "nbformat": 4,
 "nbformat_minor": 2
}
